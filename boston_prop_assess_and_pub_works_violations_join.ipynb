{
  "nbformat": 4,
  "nbformat_minor": 0,
  "metadata": {
    "colab": {
      "provenance": [],
      "authorship_tag": "ABX9TyMLZLhZrRu277NkYid7jKmk",
      "include_colab_link": true
    },
    "kernelspec": {
      "name": "python3",
      "display_name": "Python 3"
    },
    "language_info": {
      "name": "python"
    }
  },
  "cells": [
    {
      "cell_type": "markdown",
      "metadata": {
        "id": "view-in-github",
        "colab_type": "text"
      },
      "source": [
        "<a href=\"https://colab.research.google.com/github/Andrew-TraverseMT/placekey-joins/blob/main/boston_prop_assess_and_pub_works_violations_join.ipynb\" target=\"_parent\"><img src=\"https://colab.research.google.com/assets/colab-badge.svg\" alt=\"Open In Colab\"/></a>"
      ]
    },
    {
      "cell_type": "markdown",
      "source": [
        "### Installing Dependencies and Importing Libraries"
      ],
      "metadata": {
        "id": "mqnVwyzHoRaz"
      }
    },
    {
      "cell_type": "code",
      "execution_count": 3,
      "metadata": {
        "colab": {
          "base_uri": "https://localhost:8080/"
        },
        "id": "ScnzClV7oDmd",
        "outputId": "2bcf3f21-f346-4455-ee33-f6d35e6729cf"
      },
      "outputs": [
        {
          "output_type": "stream",
          "name": "stdout",
          "text": [
            "Requirement already satisfied: placekey in /usr/local/lib/python3.11/dist-packages (0.0.32)\n",
            "Collecting awscli\n",
            "  Downloading awscli-1.37.18-py3-none-any.whl.metadata (11 kB)\n",
            "Requirement already satisfied: h3<4,>=3.6.1 in /usr/local/lib/python3.11/dist-packages (from placekey) (3.7.7)\n",
            "Requirement already satisfied: shapely in /usr/local/lib/python3.11/dist-packages (from placekey) (2.0.7)\n",
            "Requirement already satisfied: requests in /usr/local/lib/python3.11/dist-packages (from placekey) (2.32.3)\n",
            "Requirement already satisfied: ratelimit in /usr/local/lib/python3.11/dist-packages (from placekey) (2.2.1)\n",
            "Requirement already satisfied: backoff in /usr/local/lib/python3.11/dist-packages (from placekey) (2.2.1)\n",
            "Requirement already satisfied: boto3 in /usr/local/lib/python3.11/dist-packages (from placekey) (1.36.18)\n",
            "Requirement already satisfied: botocore==1.36.18 in /usr/local/lib/python3.11/dist-packages (from awscli) (1.36.18)\n",
            "Collecting docutils<0.17,>=0.10 (from awscli)\n",
            "  Downloading docutils-0.16-py2.py3-none-any.whl.metadata (2.7 kB)\n",
            "Requirement already satisfied: s3transfer<0.12.0,>=0.11.0 in /usr/local/lib/python3.11/dist-packages (from awscli) (0.11.2)\n",
            "Requirement already satisfied: PyYAML<6.1,>=3.10 in /usr/local/lib/python3.11/dist-packages (from awscli) (6.0.2)\n",
            "Collecting colorama<0.4.7,>=0.2.5 (from awscli)\n",
            "  Downloading colorama-0.4.6-py2.py3-none-any.whl.metadata (17 kB)\n",
            "Collecting rsa<4.8,>=3.1.2 (from awscli)\n",
            "  Downloading rsa-4.7.2-py3-none-any.whl.metadata (3.6 kB)\n",
            "Requirement already satisfied: jmespath<2.0.0,>=0.7.1 in /usr/local/lib/python3.11/dist-packages (from botocore==1.36.18->awscli) (1.0.1)\n",
            "Requirement already satisfied: python-dateutil<3.0.0,>=2.1 in /usr/local/lib/python3.11/dist-packages (from botocore==1.36.18->awscli) (2.8.2)\n",
            "Requirement already satisfied: urllib3!=2.2.0,<3,>=1.25.4 in /usr/local/lib/python3.11/dist-packages (from botocore==1.36.18->awscli) (2.3.0)\n",
            "Requirement already satisfied: pyasn1>=0.1.3 in /usr/local/lib/python3.11/dist-packages (from rsa<4.8,>=3.1.2->awscli) (0.6.1)\n",
            "Requirement already satisfied: charset-normalizer<4,>=2 in /usr/local/lib/python3.11/dist-packages (from requests->placekey) (3.4.1)\n",
            "Requirement already satisfied: idna<4,>=2.5 in /usr/local/lib/python3.11/dist-packages (from requests->placekey) (3.10)\n",
            "Requirement already satisfied: certifi>=2017.4.17 in /usr/local/lib/python3.11/dist-packages (from requests->placekey) (2025.1.31)\n",
            "Requirement already satisfied: numpy<3,>=1.14 in /usr/local/lib/python3.11/dist-packages (from shapely->placekey) (1.26.4)\n",
            "Requirement already satisfied: six>=1.5 in /usr/local/lib/python3.11/dist-packages (from python-dateutil<3.0.0,>=2.1->botocore==1.36.18->awscli) (1.17.0)\n",
            "Downloading awscli-1.37.18-py3-none-any.whl (4.6 MB)\n",
            "\u001b[2K   \u001b[90m━━━━━━━━━━━━━━━━━━━━━━━━━━━━━━━━━━━━━━━━\u001b[0m \u001b[32m4.6/4.6 MB\u001b[0m \u001b[31m33.5 MB/s\u001b[0m eta \u001b[36m0:00:00\u001b[0m\n",
            "\u001b[?25hDownloading colorama-0.4.6-py2.py3-none-any.whl (25 kB)\n",
            "Downloading docutils-0.16-py2.py3-none-any.whl (548 kB)\n",
            "\u001b[2K   \u001b[90m━━━━━━━━━━━━━━━━━━━━━━━━━━━━━━━━━━━━━━━━\u001b[0m \u001b[32m548.2/548.2 kB\u001b[0m \u001b[31m36.2 MB/s\u001b[0m eta \u001b[36m0:00:00\u001b[0m\n",
            "\u001b[?25hDownloading rsa-4.7.2-py3-none-any.whl (34 kB)\n",
            "Installing collected packages: rsa, docutils, colorama, awscli\n",
            "  Attempting uninstall: rsa\n",
            "    Found existing installation: rsa 4.9\n",
            "    Uninstalling rsa-4.9:\n",
            "      Successfully uninstalled rsa-4.9\n",
            "  Attempting uninstall: docutils\n",
            "    Found existing installation: docutils 0.21.2\n",
            "    Uninstalling docutils-0.21.2:\n",
            "      Successfully uninstalled docutils-0.21.2\n",
            "\u001b[31mERROR: pip's dependency resolver does not currently take into account all the packages that are installed. This behaviour is the source of the following dependency conflicts.\n",
            "sphinx 8.1.3 requires docutils<0.22,>=0.20, but you have docutils 0.16 which is incompatible.\u001b[0m\u001b[31m\n",
            "\u001b[0mSuccessfully installed awscli-1.37.18 colorama-0.4.6 docutils-0.16 rsa-4.7.2\n"
          ]
        }
      ],
      "source": [
        "!pip install placekey awscli"
      ]
    },
    {
      "cell_type": "code",
      "source": [
        "import placekey as pk\n",
        "import pandas as pd"
      ],
      "metadata": {
        "id": "oQnwHWLIoxgJ"
      },
      "execution_count": 4,
      "outputs": []
    },
    {
      "cell_type": "markdown",
      "source": [
        "### Explore Available Free Datasets using Placekey_PY"
      ],
      "metadata": {
        "id": "jfQvwdMLpTot"
      }
    },
    {
      "cell_type": "code",
      "source": [
        "datasets = pk.list_free_datasets()\n",
        "print(datasets)"
      ],
      "metadata": {
        "colab": {
          "base_uri": "https://localhost:8080/"
        },
        "id": "MmQmzFEqpape",
        "outputId": "e13a9c10-af5a-4395-b2a6-695305dcd77d"
      },
      "execution_count": 8,
      "outputs": [
        {
          "output_type": "stream",
          "name": "stdout",
          "text": [
            "{'buildzoom-skinny-file', 'hifld-fire-department-data', 'la-county-active-businesses', 'nyc-garden-data', 'supplemental-nutrition-assistance-program-locations', 'chicago-scofflaw-law-violation-data', 'national-provider-identifier', 'preferred-communications-skinny-file', 'skilled-nursing-facility-medicare-enrollments', 'paycheck-protection-program-lender-locations', 'national-address-database', 'nyc-public-computer-access', 'nyc-acris-property-locations', 'windfall-skinny-file', 'nyc-real-property-data', 'la-crime-2020-24', 'boston-public-works-violations', 'anteriad-skinny-file', 'resimplifi-skinny-file', 'first-american-skinny-file', 'hospital-payment-value-data-from-cms', 'foursquare-open-source-places', 'department-of-labor-wage-and-hour-compliance', 'chicago-vacant-and-abandoned-buildings', 'l2-data-skinny-file', 'throtle-skinny-file', 'openaddresses', 'cap-locations-skinny-file', 'nyc-rpie-violations', 'nyc-eviction-data', 'environics-skinny-file', 'dc-healthy-corner-stores', 'nyc-street-tree-census', 'rural-health-clinic-medicare-enrollments', 'chicago-building-permits', 'hospital-medicare-enrollments', 'hospice-medicare-enrollments', 'paycheck-protection-program-loan-data', 'philadelphia-affordable-housing-production', 'regrid-skinny-file', 'nyc-tax-liens-sale', 'hifld-local-law-enforcement-locations', 'chipotle-locations', 'starbucks-and-dunkin', 'federally-qualified-health-centers-provider-locations', 'boston-property-assessment-data', 'boston-food-establishment-inspections', 'overture', 'ageon-skinny-file', 'ev-charging-station', 'philadelphia-certified-for-rental-suitability', 'federal-real-property-data', 'home-health-agency-medicare-enrollments', 'nces-public-school-characteristics', 'home-infusion-therapy-provider-medicare-enrollments', 'hospital-data-from-cms', 'national-downloadable-files-from-the-doctors-and-clinicians-data-section', 'philadelphia-demolitions', 'verisk-skinny-file', 'la-county-restaurant-health-inspection-data'}\n"
          ]
        }
      ]
    },
    {
      "cell_type": "markdown",
      "source": [
        "#### Get the S3 location of specific datasets by name, in this case 'Boston Property Assessment Data' and 'Boston Public Works Violations'"
      ],
      "metadata": {
        "id": "JpDHQMgCq3wy"
      }
    },
    {
      "cell_type": "code",
      "source": [
        "boston_datasets = [dataset for dataset in datasets if 'boston' in dataset]\n",
        "print(boston_datasets)"
      ],
      "metadata": {
        "colab": {
          "base_uri": "https://localhost:8080/"
        },
        "id": "Cuk3k5T5pwq1",
        "outputId": "c8f1557e-9490-491d-a189-9ea7542b4a8f"
      },
      "execution_count": 10,
      "outputs": [
        {
          "output_type": "stream",
          "name": "stdout",
          "text": [
            "['boston-public-works-violations', 'boston-property-assessment-data', 'boston-food-establishment-inspections']\n"
          ]
        }
      ]
    }
  ]
}